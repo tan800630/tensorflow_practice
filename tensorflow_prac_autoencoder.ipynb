{
 "cells": [
  {
   "cell_type": "code",
   "execution_count": null,
   "metadata": {
    "collapsed": true
   },
   "outputs": [],
   "source": [
    "%matplotlib inline\n",
    "import tensorflow as tf\n",
    "import os\n",
    "import matplotlib.pyplot as plt\n",
    "import matplotlib.patheffects as PathEffects\n",
    "import matplotlib\n",
    "import numpy as np\n",
    "from sklearn.decomposition import PCA\n",
    "from sklearn.manifold import TSNE\n",
    "\n",
    "from tensorflow.examples.tutorials.mnist import input_data\n",
    "mnist = input_data.read_data_sets(\"MNIST_data/\", one_hot = True)\n",
    "current_dir = os.getcwd()"
   ]
  },
  {
   "cell_type": "code",
   "execution_count": 9,
   "metadata": {},
   "outputs": [
    {
     "name": "stdout",
     "output_type": "stream",
     "text": [
      "step 0, loss 0.629426\n",
      "step 100, loss 0.0835595\n",
      "step 200, loss 0.0664671\n",
      "step 300, loss 0.0672531\n",
      "step 400, loss 0.0642574\n",
      "step 500, loss 0.0527206\n",
      "step 600, loss 0.0543963\n",
      "step 700, loss 0.0480503\n",
      "step 800, loss 0.046638\n",
      "step 900, loss 0.0344818\n",
      "step 1000, loss 0.0370042\n",
      "step 1100, loss 0.036529\n",
      "step 1200, loss 0.0407868\n",
      "step 1300, loss 0.0429876\n",
      "step 1400, loss 0.0359411\n",
      "step 1500, loss 0.0342042\n",
      "step 1600, loss 0.0327583\n",
      "step 1700, loss 0.0359244\n",
      "step 1800, loss 0.0296948\n",
      "step 1900, loss 0.034383\n",
      "step 2000, loss 0.036049\n",
      "step 2100, loss 0.0347027\n",
      "step 2200, loss 0.0325686\n",
      "step 2300, loss 0.0298946\n",
      "step 2400, loss 0.0338443\n",
      "step 2500, loss 0.0300798\n",
      "step 2600, loss 0.0293948\n",
      "step 2700, loss 0.0353989\n",
      "step 2800, loss 0.0291375\n",
      "step 2900, loss 0.0347468\n",
      "step 3000, loss 0.0342655\n",
      "step 3100, loss 0.032101\n",
      "step 3200, loss 0.0302167\n",
      "step 3300, loss 0.0315846\n",
      "step 3400, loss 0.0316341\n",
      "step 3500, loss 0.0360179\n",
      "step 3600, loss 0.0324028\n",
      "step 3700, loss 0.032573\n",
      "step 3800, loss 0.031261\n",
      "step 3900, loss 0.0291747\n",
      "step 4000, loss 0.034612\n",
      "step 4100, loss 0.0304017\n",
      "step 4200, loss 0.0332744\n",
      "step 4300, loss 0.0301002\n",
      "step 4400, loss 0.0302688\n",
      "step 4500, loss 0.0343987\n",
      "step 4600, loss 0.0307602\n",
      "step 4700, loss 0.0312569\n",
      "step 4800, loss 0.0321176\n",
      "step 4900, loss 0.0390978\n",
      "step 5000, loss 0.0317615\n",
      "step 5100, loss 0.0333748\n",
      "step 5200, loss 0.0316357\n",
      "step 5300, loss 0.0335522\n",
      "step 5400, loss 0.0269021\n",
      "step 5500, loss 0.0288954\n",
      "step 5600, loss 0.032108\n",
      "step 5700, loss 0.0333311\n",
      "step 5800, loss 0.0347331\n",
      "step 5900, loss 0.0322228\n",
      "step 6000, loss 0.030523\n",
      "step 6100, loss 0.0304018\n",
      "step 6200, loss 0.0318963\n",
      "step 6300, loss 0.0333469\n",
      "step 6400, loss 0.0329089\n",
      "step 6500, loss 0.0307341\n",
      "step 6600, loss 0.0316407\n",
      "step 6700, loss 0.0335088\n",
      "step 6800, loss 0.0349642\n",
      "step 6900, loss 0.0361563\n",
      "step 7000, loss 0.0324812\n",
      "step 7100, loss 0.0302591\n",
      "step 7200, loss 0.0284746\n",
      "step 7300, loss 0.0362689\n",
      "step 7400, loss 0.0301676\n",
      "step 7500, loss 0.0299006\n",
      "step 7600, loss 0.031543\n",
      "step 7700, loss 0.0331229\n",
      "step 7800, loss 0.0333252\n",
      "step 7900, loss 0.0321766\n",
      "step 8000, loss 0.0366429\n",
      "step 8100, loss 0.0309501\n",
      "step 8200, loss 0.034273\n",
      "step 8300, loss 0.0311098\n",
      "step 8400, loss 0.0294676\n",
      "step 8500, loss 0.0329397\n",
      "step 8600, loss 0.0321221\n",
      "step 8700, loss 0.0345007\n",
      "step 8800, loss 0.0264721\n",
      "step 8900, loss 0.0306478\n",
      "step 9000, loss 0.0340131\n",
      "step 9100, loss 0.0315058\n",
      "step 9200, loss 0.0289288\n",
      "step 9300, loss 0.0325389\n",
      "step 9400, loss 0.0360335\n",
      "step 9500, loss 0.0301983\n",
      "step 9600, loss 0.0293826\n",
      "step 9700, loss 0.0325807\n",
      "step 9800, loss 0.0385569\n",
      "step 9900, loss 0.0276696\n",
      "step 10000, loss 0.0293982\n",
      "step 10100, loss 0.0334556\n",
      "step 10200, loss 0.0316371\n",
      "step 10300, loss 0.0291672\n",
      "step 10400, loss 0.030288\n",
      "step 10500, loss 0.0284949\n",
      "step 10600, loss 0.0309436\n",
      "step 10700, loss 0.0309982\n",
      "step 10800, loss 0.0296261\n",
      "step 10900, loss 0.0349508\n",
      "step 11000, loss 0.0314132\n",
      "step 11100, loss 0.0298256\n",
      "step 11200, loss 0.03246\n",
      "step 11300, loss 0.0294257\n",
      "step 11400, loss 0.0312506\n",
      "step 11500, loss 0.0323049\n",
      "step 11600, loss 0.0305585\n",
      "step 11700, loss 0.0321262\n",
      "step 11800, loss 0.0296214\n",
      "step 11900, loss 0.0330992\n",
      "step 12000, loss 0.0275456\n",
      "step 12100, loss 0.0351525\n",
      "step 12200, loss 0.0317322\n",
      "step 12300, loss 0.0255144\n",
      "step 12400, loss 0.0342021\n",
      "step 12500, loss 0.0321096\n",
      "step 12600, loss 0.0310075\n",
      "step 12700, loss 0.0312291\n",
      "step 12800, loss 0.0341414\n",
      "step 12900, loss 0.0288211\n",
      "step 13000, loss 0.0276354\n",
      "step 13100, loss 0.0341203\n",
      "step 13200, loss 0.0299617\n",
      "step 13300, loss 0.0287719\n",
      "step 13400, loss 0.0289026\n",
      "step 13500, loss 0.0323667\n",
      "step 13600, loss 0.029099\n",
      "step 13700, loss 0.0277576\n",
      "step 13800, loss 0.0299963\n",
      "step 13900, loss 0.0315587\n",
      "step 14000, loss 0.0308759\n",
      "step 14100, loss 0.0299976\n",
      "step 14200, loss 0.0279238\n",
      "step 14300, loss 0.0328503\n",
      "step 14400, loss 0.0320983\n",
      "step 14500, loss 0.0291159\n",
      "step 14600, loss 0.0300996\n",
      "step 14700, loss 0.0275243\n",
      "step 14800, loss 0.0302762\n",
      "step 14900, loss 0.0307992\n",
      "step 15000, loss 0.0318776\n",
      "step 15100, loss 0.0322574\n",
      "step 15200, loss 0.0328402\n",
      "step 15300, loss 0.0320972\n",
      "step 15400, loss 0.0331353\n",
      "step 15500, loss 0.0272567\n",
      "step 15600, loss 0.0314399\n",
      "step 15700, loss 0.0312332\n",
      "step 15800, loss 0.0286531\n",
      "step 15900, loss 0.0360131\n",
      "step 16000, loss 0.0308878\n",
      "step 16100, loss 0.0311657\n",
      "step 16200, loss 0.0298357\n",
      "step 16300, loss 0.0326716\n",
      "step 16400, loss 0.030088\n",
      "step 16500, loss 0.0279881\n",
      "step 16600, loss 0.0277411\n",
      "step 16700, loss 0.029164\n",
      "step 16800, loss 0.0314062\n",
      "step 16900, loss 0.0304621\n",
      "step 17000, loss 0.0308617\n",
      "step 17100, loss 0.0320794\n",
      "step 17200, loss 0.033637\n",
      "step 17300, loss 0.0331149\n",
      "step 17400, loss 0.0300371\n",
      "step 17500, loss 0.0304383\n",
      "step 17600, loss 0.0298624\n",
      "step 17700, loss 0.0280857\n",
      "step 17800, loss 0.0310189\n",
      "step 17900, loss 0.0325158\n",
      "step 18000, loss 0.0285723\n",
      "step 18100, loss 0.0302584\n",
      "step 18200, loss 0.0332828\n",
      "step 18300, loss 0.029051\n",
      "step 18400, loss 0.0330598\n",
      "step 18500, loss 0.0306164\n",
      "step 18600, loss 0.0329325\n",
      "step 18700, loss 0.0268587\n",
      "step 18800, loss 0.0289369\n",
      "step 18900, loss 0.028272\n",
      "step 19000, loss 0.0300453\n",
      "step 19100, loss 0.0317492\n",
      "step 19200, loss 0.0281928\n",
      "step 19300, loss 0.0330875\n",
      "step 19400, loss 0.0307827\n",
      "step 19500, loss 0.0333124\n",
      "step 19600, loss 0.0309602\n",
      "step 19700, loss 0.0326\n",
      "step 19800, loss 0.0297638\n",
      "step 19900, loss 0.0304988\n",
      "final loss 0.0310249\n"
     ]
    }
   ],
   "source": [
    "init_op=tf.global_variables_initializer()\n",
    "\n",
    "\n",
    "def weight_variable(shape,name):\n",
    "    return tf.Variable(tf.truncated_normal(shape=shape,stddev=0.1),name)\n",
    "def bias_variable(shape,name):\n",
    "    return tf.Variable(tf.constant(0.1,shape=shape),name)\n",
    "\n",
    "x=tf.placeholder(tf.float32,shape=[None,784])\n",
    "e_W_1=weight_variable([784,300],\"e_W_1\")\n",
    "e_b_1=bias_variable([300],\"e_b_1\")\n",
    "e_layer1=tf.nn.relu(tf.matmul(x,e_W_1)+e_b_1)\n",
    "e_W_2=weight_variable([300,100],\"e_W_2\")\n",
    "e_b_2=bias_variable([100],\"e_b_2\")\n",
    "e_layer2=tf.nn.relu(tf.matmul(e_layer1,e_W_2)+e_b_2)\n",
    "e_W_3=bias_variable([100,20],\"e_W_3\")\n",
    "e_b_3=bias_variable([20],\"e_b_3\")\n",
    "\n",
    "code_layer=tf.nn.relu(tf.matmul(e_layer2,e_W_3)+e_b_3)\n",
    "\n",
    "d_W_1=weight_variable([20,100],\"d_W_1\")\n",
    "d_b_1=bias_variable([100],\"d_b_1\")\n",
    "d_layer1=tf.nn.relu(tf.matmul(code_layer,d_W_1)+d_b_1)\n",
    "d_W_2=weight_variable([100,300],\"d_W_2\")\n",
    "d_b_2=bias_variable([300],\"d_b_2\")\n",
    "d_layer2=tf.nn.relu(tf.matmul(d_layer1,d_W_2)+d_b_2)\n",
    "d_W_3=weight_variable([300,784],\"d_W_3\")\n",
    "d_b_3=bias_variable([784],\"d_b_3\")\n",
    "output_layer=tf.nn.relu(tf.matmul(d_layer2,d_W_3)+d_b_3)\n",
    "\n",
    "#loss function\n",
    "loss=tf.reduce_mean(tf.pow(output_layer-x,2))\n",
    "optimizer=tf.train.RMSPropOptimizer(0.01).minimize(loss)\n",
    "init_op=tf.global_variables_initializer()\n",
    "\n",
    "sess=tf.InteractiveSession()\n",
    "sess.run(init_op)\n",
    "for i in range(20000):\n",
    "    batch=mnist.train.next_batch(50)\n",
    "    if i%100==0:\n",
    "        print(\"step %d, loss %g\"%(i,loss.eval(feed_dict={x:batch[0]})))\n",
    "    optimizer.run(feed_dict={x:batch[0]})\n",
    "    \n",
    "print(\"final loss %g\" % loss.eval(feed_dict={x:mnist.test.images}))\n"
   ]
  },
  {
   "cell_type": "code",
   "execution_count": 10,
   "metadata": {},
   "outputs": [
    {
     "data": {
      "image/png": "[encoded data removed]",
      "text/plain": [
       "<matplotlib.figure.Figure at 0x7f667c03a710>"
      ]
     },
     "metadata": {},
     "output_type": "display_data"
    },
    {
     "data": {
      "image/png": "[encoded data removed]",
      "text/plain": [
       "<matplotlib.figure.Figure at 0x7f666909c5d0>"
      ]
     },
     "metadata": {},
     "output_type": "display_data"
    },
    {
     "data": {
      "image/png": "[encoded data removed]",
      "text/plain": [
       "<matplotlib.figure.Figure at 0x7f6674fd6c90>"
      ]
     },
     "metadata": {},
     "output_type": "display_data"
    },
    {
     "data": {
      "image/png": "[encoded data removed]",
      "text/plain": [
       "<matplotlib.figure.Figure at 0x7f6674fa6f90>"
      ]
     },
     "metadata": {},
     "output_type": "display_data"
    },
    {
     "data": {
      "image/png": "[encoded data removed]",
      "text/plain": [
       "<matplotlib.figure.Figure at 0x7f6674efe2d0>"
      ]
     },
     "metadata": {},
     "output_type": "display_data"
    },
    {
     "data": {
      "image/png": "[encoded data removed]",
      "text/plain": [
       "<matplotlib.figure.Figure at 0x7f6674ebcd50>"
      ]
     },
     "metadata": {},
     "output_type": "display_data"
    },
    {
     "data": {
      "image/png": "[encoded data removed]",
      "text/plain": [
       "<matplotlib.figure.Figure at 0x7f6674e94090>"
      ]
     },
     "metadata": {},
     "output_type": "display_data"
    },
    {
     "data": {
      "image/png": "[encoded data removed]",
      "text/plain": [
       "<matplotlib.figure.Figure at 0x7f6674e61710>"
      ]
     },
     "metadata": {},
     "output_type": "display_data"
    },
    {
     "data": {
      "image/png": "[encoded data removed]",
      "text/plain": [
       "<matplotlib.figure.Figure at 0x7f6674e2ec90>"
      ]
     },
     "metadata": {},
     "output_type": "display_data"
    },
    {
     "data": {
      "image/png": "[encoded data removed]",
      "text/plain": [
       "<matplotlib.figure.Figure at 0x7f6674ec3590>"
      ]
     },
     "metadata": {},
     "output_type": "display_data"
    }
   ],
   "source": [
    "import numpy as np\n",
    "import matplotlib.pyplot as plt\n",
    "%matplotlib inline\n",
    "\n",
    "trainimg=mnist.train.images\n",
    "trainlabel=mnist.train.labels\n",
    "output_nd=output_layer.eval(feed_dict={x:mnist.train.images})\n",
    "\n",
    "for i in [0,1,2,3,4]:\n",
    "    curr_img=np.reshape(trainimg[i,:],(28,28))\n",
    "    ae_img=np.reshape(output_nd[i,:],(28,28))\n",
    "    curr_label=np.argmax(trainlabel[i,:])\n",
    "    plt.matshow(curr_img,cmap=plt.get_cmap('gray'))\n",
    "    plt.matshow(ae_img,cmap=plt.get_cmap('gray'))"
   ]
  }
 ],
 "metadata": {
  "kernelspec": {
   "display_name": "Python 2",
   "language": "python",
   "name": "python2"
  },
  "language_info": {
   "codemirror_mode": {
    "name": "ipython",
    "version": 2
   },
   "file_extension": ".py",
   "mimetype": "text/x-python",
   "name": "python",
   "nbconvert_exporter": "python",
   "pygments_lexer": "ipython2",
   "version": "2.7.14"
  }
 },
 "nbformat": 4,
 "nbformat_minor": 2
}
