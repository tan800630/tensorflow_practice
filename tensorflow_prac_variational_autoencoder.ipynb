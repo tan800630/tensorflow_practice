{
 "cells": [
  {
   "cell_type": "code",
   "execution_count": 1,
   "metadata": {},
   "outputs": [
    {
     "name": "stdout",
     "output_type": "stream",
     "text": [
      "Extracting MNIST_data/train-images-idx3-ubyte.gz\n",
      "Extracting MNIST_data/train-labels-idx1-ubyte.gz\n",
      "Extracting MNIST_data/t10k-images-idx3-ubyte.gz\n",
      "Extracting MNIST_data/t10k-labels-idx1-ubyte.gz\n"
     ]
    }
   ],
   "source": [
    "import numpy as np\n",
    "import tensorflow as tf\n",
    "import matplotlib.pyplot as plt\n",
    "from tensorflow.examples.tutorials.mnist import input_data\n",
    "%matplotlib inline\n",
    "\n",
    "mnist=input_data.read_data_sets(\"MNIST_data/\",one_hot=True)"
   ]
  },
  {
   "cell_type": "code",
   "execution_count": null,
   "metadata": {
    "collapsed": true
   },
   "outputs": [],
   "source": [
    "def weight_variable(shape, name):\n",
    "    return tf.Variable(tf.truncated_normal(shape = shape, stddev = 0.1), name)\n",
    "\n",
    "def bias_variable(shape, name):\n",
    "    return tf.Variable(tf.zeros(shape = shape), name)\n",
    "\n",
    "def plot_n_reconstruct(origin_img, reconstruct_img, n = 10):\n",
    "\n",
    "    plt.figure(figsize=(2 * 10, 4))\n",
    "\n",
    "    for i in range(n):\n",
    "        # display original\n",
    "        ax = plt.subplot(2, n, i + 1)\n",
    "        plt.imshow(origin_img[i].reshape(28, 28))\n",
    "        plt.gray()\n",
    "        ax.get_xaxis().set_visible(False)\n",
    "        ax.get_yaxis().set_visible(False)\n",
    "\n",
    "        # display reconstruction\n",
    "        ax = plt.subplot(2, n, i + 1 + n)\n",
    "        plt.imshow(reconstruct_img[i].reshape(28, 28))\n",
    "        plt.gray()\n",
    "        ax.get_xaxis().set_visible(False)\n",
    "        ax.get_yaxis().set_visible(False)\n",
    "    plt.show()\n",
    "    \n",
    "\n",
    "    \n",
    "n_z=2\n",
    "batch_size=50\n",
    "X=tf.placeholder(tf.float32,shape=[None,784])\n",
    "\n",
    "W_e_1=weights([784,500],\"w_encoder_1\")\n",
    "b_e_1=bias([500],\"b_encoder_1\")\n",
    "h_e_1=tf.nn.relu(tf.add(tf.matmul(X,W_e_1),b_e_1))\n",
    "\n",
    "W_e_2=weights([500,200],\"w_encoder_2\")\n",
    "W.append(W_e_2)\n",
    "b_e_2=bias([200],\"b_encoder_2\")\n",
    "h_e_2=tf.nn.relu(tf.add(tf.matmul(h_e_1,W_e_2),b_e_2))\n",
    "\n",
    "W_latent=weights([500,n_z],\"w_latent\")\n",
    "W.append(W_latent)\n",
    "b_latent=bias([n_z],\"b_latent\")\n",
    "\n",
    "z_mean=tf.add(tf.matmul(h_e_1,W_latent),b_latent)\n",
    "z_log_sigma=tf.add(tf.matmul(h_e_1,W_latent),b_latent)\n",
    "\n",
    "eps=tf.random_normal((batch_size,n_z),0.1.ftype=tf.float32)\n",
    "z=tf.add(z_mean,tf.mul(tf.sqrt(tf.exp(z_log_sigma)),eps))\n",
    "\n",
    "#tf.reduce_sum(1+z_log_sigma-tf.square(z_mean)-tf.exp(z_log_sigma),1)"
   ]
  }
 ],
 "metadata": {
  "kernelspec": {
   "display_name": "Python 2",
   "language": "python",
   "name": "python2"
  },
  "language_info": {
   "codemirror_mode": {
    "name": "ipython",
    "version": 2
   },
   "file_extension": ".py",
   "mimetype": "text/x-python",
   "name": "python",
   "nbconvert_exporter": "python",
   "pygments_lexer": "ipython2",
   "version": "2.7.14"
  }
 },
 "nbformat": 4,
 "nbformat_minor": 2
}
