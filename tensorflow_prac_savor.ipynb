{
 "cells": [
  {
   "cell_type": "code",
   "execution_count": 1,
   "metadata": {},
   "outputs": [
    {
     "name": "stdout",
     "output_type": "stream",
     "text": [
      "[array([ 0.1,  0.1], dtype=float32), array([ 0.30000001,  0.30000001], dtype=float32)]\n"
     ]
    }
   ],
   "source": [
    "import tensorflow as tf\n",
    "import os\n",
    "os.makedirs(\"/tmp/model\")\n",
    "os.makedirs(\"/tmp/model-subset\")\n",
    "\n",
    "# 建立一些變數以及對應的名字．\n",
    "\n",
    "v1 = tf.Variable([0.1, 0.1], name=\"v1\")\n",
    "v2 = tf.Variable([0.2, 0.2], name=\"v2\")\n",
    "\n",
    "# 建立所有 variables 的初始化 ops\n",
    "init_op = tf.global_variables_initializer()\n",
    "\n",
    "# 建立 saver 物件\n",
    "saver = tf.train.Saver()\n",
    "\n",
    "with tf.Session() as sess:\n",
    "    \n",
    "    # 執行初始化\n",
    "    sess.run(init_op)\n",
    "    \n",
    "    #重新指定 v2 的值\n",
    "    ops = tf.assign(v2, [0.3, 0.3])\n",
    "    sess.run(ops)\n",
    "    \n",
    "    print sess.run(tf.global_variables())\n",
    "    # ... 中間略去許多模型定義以及訓練，例如可以是 MNIST 的定義以及訓練\n",
    "    \n",
    "    save_path = saver.save(sess, \"/tmp/model/model.ckpt\") # 儲存模型到 /tmp/model.ckpt"
   ]
  },
  {
   "cell_type": "code",
   "execution_count": null,
   "metadata": {
    "collapsed": true
   },
   "outputs": [],
   "source": [
    "# 使用 inspect_checkpoint.py tool 來印出 ckpt 檔\n",
    "!python /usr/local/lib/python2.7/dist-packages/tensorflow/python/tools/inspect_checkpoint.py --file_name=/tmp/model/model.ckpt"
   ]
  },
  {
   "cell_type": "code",
   "execution_count": 2,
   "metadata": {
    "collapsed": true
   },
   "outputs": [],
   "source": [
    "#save specific variables\n",
    "\n",
    "tf.reset_default_graph()\n",
    "v1 = tf.Variable([0.1, 0.1], name=\"v1\")\n",
    "v2 = tf.Variable([0.4, 0.4], name=\"v2\")\n",
    "init_ops = tf.global_variables_initializer()\n",
    "\n",
    "with tf.Session() as sess:\n",
    "    sess.run(init_ops)\n",
    "    saver = tf.train.Saver({\"my_v2\": v2})\n",
    "    save_path = saver.save(sess, \"/tmp/model-subset/model.ckpt\")"
   ]
  },
  {
   "cell_type": "code",
   "execution_count": 4,
   "metadata": {},
   "outputs": [
    {
     "name": "stdout",
     "output_type": "stream",
     "text": [
      "INFO:tensorflow:Restoring parameters from /tmp/model/model.ckpt\n",
      "Model restored.\n",
      "all values [array([ 0.1,  0.1], dtype=float32), array([ 0.30000001,  0.30000001], dtype=float32)]\n",
      "v2 value : [ 0.30000001  0.30000001]\n"
     ]
    }
   ],
   "source": [
    "#Model restoration\n",
    "#方法一(需要事先設定好model長相)\n",
    "tf.reset_default_graph()\n",
    "\n",
    "v1 = tf.Variable(tf.constant(0.1, shape = [2]), name=\"v1\")\n",
    "v2 = tf.Variable(tf.constant(0.2, shape = [2]), name=\"v2\")\n",
    "\n",
    "saver = tf.train.Saver()\n",
    "\n",
    "with tf.Session() as sess:\n",
    "    saver.restore(sess, \"/tmp/model/model.ckpt\")\n",
    "    print(\"Model restored.\")\n",
    "    print(\"all values %s\" % sess.run(tf.global_variables()))\n",
    "    print(\"v2 value : %s\" % sess.run(v2))"
   ]
  },
  {
   "cell_type": "code",
   "execution_count": 5,
   "metadata": {},
   "outputs": [
    {
     "name": "stdout",
     "output_type": "stream",
     "text": [
      "INFO:tensorflow:Restoring parameters from /tmp/model-subset/model.ckpt\n",
      "v1:0 with value [ 0.1  0.1]\n",
      "v2:0 with value [ 0.40000001  0.40000001]\n"
     ]
    }
   ],
   "source": [
    "#Model restoration\n",
    "#方法二(不須事先設定model樣子)\n",
    "tf.reset_default_graph()\n",
    "with tf.Session() as sess:\n",
    "    saver = tf.train.import_meta_graph('/tmp/model-subset/model.ckpt.meta')\n",
    "    saver.restore(sess, tf.train.latest_checkpoint('/tmp/model-subset/'))\n",
    "    sess.run(tf.global_variables_initializer())\n",
    "    all_vars = tf.trainable_variables()\n",
    "    for v in all_vars:\n",
    "        print(\"%s with value %s\" % (v.name, sess.run(v)))"
   ]
  }
 ],
 "metadata": {
  "kernelspec": {
   "display_name": "Python 2",
   "language": "python",
   "name": "python2"
  },
  "language_info": {
   "codemirror_mode": {
    "name": "ipython",
    "version": 2
   },
   "file_extension": ".py",
   "mimetype": "text/x-python",
   "name": "python",
   "nbconvert_exporter": "python",
   "pygments_lexer": "ipython2",
   "version": "2.7.14"
  }
 },
 "nbformat": 4,
 "nbformat_minor": 2
}
