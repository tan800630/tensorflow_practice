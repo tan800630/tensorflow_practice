{
 "cells": [
  {
   "cell_type": "code",
   "execution_count": 2,
   "metadata": {},
   "outputs": [
    {
     "name": "stdout",
     "output_type": "stream",
     "text": [
      "Extracting MNIST_data/train-images-idx3-ubyte.gz\n",
      "Extracting MNIST_data/train-labels-idx1-ubyte.gz\n",
      "Extracting MNIST_data/t10k-images-idx3-ubyte.gz\n",
      "Extracting MNIST_data/t10k-labels-idx1-ubyte.gz\n"
     ]
    },
    {
     "data": {
      "text/plain": [
       "Text(0,0.5,u'kl_div')"
      ]
     },
     "execution_count": 2,
     "metadata": {},
     "output_type": "execute_result"
    },
    {
     "data": {
      "image/png": "[encoded data removed]",
      "text/plain": [
       "<matplotlib.figure.Figure at 0x7fdbf4364a90>"
      ]
     },
     "metadata": {},
     "output_type": "display_data"
    }
   ],
   "source": [
    "\n",
    "import numpy as np\n",
    "import tensorflow as tf\n",
    "import matplotlib.pyplot as plt\n",
    "from tensorflow.examples.tutorials.mnist import input_data\n",
    "%matplotlib inline\n",
    "\n",
    "mnist=input_data.read_data_sets(\"MNIST_data/\",one_hot=True)\n",
    "\n",
    "rho_hat=np.linspace(0+1e-2,1-1e-2,100)\n",
    "rho=.2\n",
    "kl_div=rho*np.log(rho/rho_hat)+(1-rho)*np.log((1-rho)/(1-rho_hat))\n",
    "\n",
    "plt.plot(rho_hat,kl_div)\n",
    "plt.xlabel(\"rho_hat\")\n",
    "plt.ylabel(\"kl_div\")\n",
    "\n"
   ]
  },
  {
   "cell_type": "code",
   "execution_count": 12,
   "metadata": {},
   "outputs": [
    {
     "name": "stdout",
     "output_type": "stream",
     "text": [
      "step 0, loss 0.286373\n",
      "step 100, loss 0.0674374\n",
      "step 200, loss 0.0615314\n",
      "step 300, loss 0.0570767\n",
      "step 400, loss 0.054188\n",
      "step 500, loss 0.050918\n",
      "step 600, loss 0.0477547\n",
      "step 700, loss 0.0464184\n",
      "step 800, loss 0.0452055\n",
      "step 900, loss 0.0433097\n",
      "step 1000, loss 0.0421848\n",
      "step 1100, loss 0.0411413\n",
      "step 1200, loss 0.0409185\n",
      "step 1300, loss 0.0402528\n",
      "step 1400, loss 0.0404098\n",
      "step 1500, loss 0.0399852\n",
      "step 1600, loss 0.0397798\n",
      "step 1700, loss 0.0393933\n",
      "step 1800, loss 0.0391789\n",
      "step 1900, loss 0.0390055\n",
      "step 2000, loss 0.0392055\n",
      "step 2100, loss 0.0386089\n",
      "step 2200, loss 0.0384145\n",
      "step 2300, loss 0.0385261\n",
      "step 2400, loss 0.0384\n",
      "step 2500, loss 0.0383109\n",
      "step 2600, loss 0.0379556\n",
      "step 2700, loss 0.0382452\n",
      "step 2800, loss 0.038108\n",
      "step 2900, loss 0.0376629\n",
      "step 3000, loss 0.0377287\n",
      "step 3100, loss 0.0373832\n",
      "step 3200, loss 0.0375156\n",
      "step 3300, loss 0.0374863\n",
      "step 3400, loss 0.037567\n",
      "step 3500, loss 0.0374164\n",
      "step 3600, loss 0.0372192\n",
      "step 3700, loss 0.0370629\n",
      "step 3800, loss 0.0371314\n",
      "step 3900, loss 0.0368784\n",
      "step 4000, loss 0.0367898\n",
      "step 4100, loss 0.0367677\n",
      "step 4200, loss 0.0367794\n",
      "step 4300, loss 0.0368118\n",
      "step 4400, loss 0.0367393\n",
      "step 4500, loss 0.0367527\n",
      "step 4600, loss 0.036645\n",
      "step 4700, loss 0.0365538\n",
      "step 4800, loss 0.0365176\n",
      "step 4900, loss 0.0365726\n",
      "step 5000, loss 0.0365906\n",
      "step 5100, loss 0.0363743\n",
      "step 5200, loss 0.036485\n",
      "step 5300, loss 0.0363699\n",
      "step 5400, loss 0.0365265\n",
      "step 5500, loss 0.0364085\n",
      "step 5600, loss 0.0365253\n",
      "step 5700, loss 0.0365148\n",
      "step 5800, loss 0.0364743\n",
      "step 5900, loss 0.036338\n",
      "step 6000, loss 0.0364105\n",
      "step 6100, loss 0.0365113\n",
      "step 6200, loss 0.0363256\n",
      "step 6300, loss 0.0361881\n",
      "step 6400, loss 0.0363837\n",
      "step 6500, loss 0.0359473\n",
      "step 6600, loss 0.0359825\n",
      "step 6700, loss 0.036266\n",
      "step 6800, loss 0.036018\n",
      "step 6900, loss 0.0359905\n",
      "step 7000, loss 0.0360093\n",
      "step 7100, loss 0.0360476\n",
      "step 7200, loss 0.0358634\n",
      "step 7300, loss 0.035929\n",
      "step 7400, loss 0.0361548\n",
      "step 7500, loss 0.0359165\n",
      "step 7600, loss 0.0360169\n",
      "step 7700, loss 0.0361235\n",
      "step 7800, loss 0.0359288\n",
      "step 7900, loss 0.0358543\n",
      "step 8000, loss 0.0359057\n",
      "step 8100, loss 0.0358637\n",
      "step 8200, loss 0.0360078\n",
      "step 8300, loss 0.0360862\n",
      "step 8400, loss 0.0357547\n",
      "step 8500, loss 0.0358796\n",
      "step 8600, loss 0.0358563\n",
      "step 8700, loss 0.0358812\n",
      "step 8800, loss 0.0355066\n",
      "step 8900, loss 0.0357931\n",
      "step 9000, loss 0.0360327\n",
      "step 9100, loss 0.0359332\n",
      "step 9200, loss 0.035795\n",
      "step 9300, loss 0.0358016\n",
      "step 9400, loss 0.0357987\n",
      "step 9500, loss 0.0358661\n",
      "step 9600, loss 0.0357482\n",
      "step 9700, loss 0.0356528\n",
      "step 9800, loss 0.0358805\n",
      "step 9900, loss 0.0357966\n",
      "step 10000, loss 0.0356925\n",
      "step 10100, loss 0.0356812\n",
      "step 10200, loss 0.0357932\n",
      "step 10300, loss 0.0357728\n",
      "step 10400, loss 0.0358585\n",
      "step 10500, loss 0.0356999\n",
      "step 10600, loss 0.035794\n",
      "step 10700, loss 0.0358274\n",
      "step 10800, loss 0.0359656\n",
      "step 10900, loss 0.0357931\n",
      "step 11000, loss 0.0356374\n",
      "step 11100, loss 0.0357645\n",
      "step 11200, loss 0.0355531\n",
      "step 11300, loss 0.0357864\n",
      "step 11400, loss 0.0357848\n",
      "step 11500, loss 0.0357427\n",
      "step 11600, loss 0.0361416\n",
      "step 11700, loss 0.0356911\n",
      "step 11800, loss 0.0358277\n",
      "step 11900, loss 0.0358056\n",
      "step 12000, loss 0.0356879\n",
      "step 12100, loss 0.0359671\n",
      "step 12200, loss 0.0356392\n",
      "step 12300, loss 0.035782\n",
      "step 12400, loss 0.0357103\n",
      "step 12500, loss 0.0357078\n",
      "step 12600, loss 0.0357741\n",
      "step 12700, loss 0.035766\n",
      "step 12800, loss 0.0356512\n",
      "step 12900, loss 0.0356817\n",
      "step 13000, loss 0.0356377\n",
      "step 13100, loss 0.0356689\n",
      "step 13200, loss 0.0355278\n",
      "step 13300, loss 0.0355584\n",
      "step 13400, loss 0.0353481\n",
      "step 13500, loss 0.0355731\n",
      "step 13600, loss 0.0354204\n",
      "step 13700, loss 0.0359553\n",
      "step 13800, loss 0.0354507\n",
      "step 13900, loss 0.0357047\n",
      "step 14000, loss 0.0354942\n",
      "step 14100, loss 0.0355812\n",
      "step 14200, loss 0.0355989\n",
      "step 14300, loss 0.0355311\n",
      "step 14400, loss 0.0356049\n",
      "step 14500, loss 0.0352317\n",
      "step 14600, loss 0.035276\n",
      "step 14700, loss 0.0353182\n",
      "step 14800, loss 0.035276\n",
      "step 14900, loss 0.0353522\n",
      "step 15000, loss 0.0354184\n",
      "step 15100, loss 0.0352859\n",
      "step 15200, loss 0.035335\n",
      "step 15300, loss 0.0350674\n",
      "step 15400, loss 0.0350716\n",
      "step 15500, loss 0.035192\n",
      "step 15600, loss 0.0352583\n",
      "step 15700, loss 0.0351106\n",
      "step 15800, loss 0.0352369\n",
      "step 15900, loss 0.0352569\n",
      "step 16000, loss 0.0351343\n",
      "step 16100, loss 0.0353588\n",
      "step 16200, loss 0.0353094\n",
      "step 16300, loss 0.0351125\n",
      "step 16400, loss 0.0353938\n",
      "step 16500, loss 0.0350495\n",
      "step 16600, loss 0.0349097\n",
      "step 16700, loss 0.0351532\n",
      "step 16800, loss 0.0352027\n",
      "step 16900, loss 0.0352262\n",
      "step 17000, loss 0.0348592\n",
      "step 17100, loss 0.0349366\n",
      "step 17200, loss 0.0350205\n",
      "step 17300, loss 0.0350132\n",
      "step 17400, loss 0.0354041\n",
      "step 17500, loss 0.0348266\n",
      "step 17600, loss 0.0351248\n",
      "step 17700, loss 0.0351319\n",
      "step 17800, loss 0.0352312\n",
      "step 17900, loss 0.0352321\n",
      "step 18000, loss 0.0350946\n",
      "step 18100, loss 0.0351385\n",
      "step 18200, loss 0.0350073\n",
      "step 18300, loss 0.0352095\n",
      "step 18400, loss 0.035072\n",
      "step 18500, loss 0.0351224\n",
      "step 18600, loss 0.0349406\n",
      "step 18700, loss 0.0351376\n",
      "step 18800, loss 0.0353136\n",
      "step 18900, loss 0.0349709\n",
      "step 19000, loss 0.0350299\n",
      "step 19100, loss 0.035186\n",
      "step 19200, loss 0.035116\n",
      "step 19300, loss 0.0349811\n",
      "step 19400, loss 0.0349225\n",
      "step 19500, loss 0.0351809\n",
      "step 19600, loss 0.0348933\n",
      "step 19700, loss 0.0350807\n",
      "step 19800, loss 0.0349898\n",
      "step 19900, loss 0.0350321\n",
      "final loss 0.0350781\n"
     ]
    }
   ],
   "source": [
    "def weight_variable(shape, name):\n",
    "    return tf.Variable(tf.truncated_normal(shape = shape, stddev = 0.1), name)\n",
    "\n",
    "def bias_variable(shape, name):\n",
    "    return tf.Variable(tf.zeros(shape = shape), name)\n",
    "\n",
    "def build_sae():\n",
    "    W_e_1 = weight_variable([784, 300], \"w_e_1\")\n",
    "    b_e_1 = bias_variable([300], \"b_e_1\")\n",
    "    h_e_1 = tf.nn.sigmoid(tf.add(tf.matmul(x, W_e_1), b_e_1))\n",
    "\n",
    "    W_e_2 = weight_variable([300, 30], \"w_e_2\")\n",
    "    b_e_2 = bias_variable([30], \"b_e_2\")\n",
    "    h_e_2 = tf.nn.sigmoid(tf.add(tf.matmul(h_e_1, W_e_2), b_e_2))\n",
    "\n",
    "    W_d_1 = weight_variable([30, 300], \"w_d_1\")\n",
    "    b_d_1 = bias_variable([300], \"b_d_1\")\n",
    "    h_d_1 = tf.nn.sigmoid(tf.add(tf.matmul(h_e_2, W_d_1), b_d_1))\n",
    "\n",
    "    W_d_2 = weight_variable([300, 784], \"w_d_2\")\n",
    "    b_d_2 = bias_variable([784], \"b_d_2\")\n",
    "    h_d_2 = tf.nn.sigmoid(tf.add(tf.matmul(h_d_1, W_d_2), b_d_2))\n",
    "    \n",
    "    return [h_e_1, h_e_2], [W_e_1, W_e_2, W_d_1, W_d_2], h_d_2\n",
    "\n",
    "def kl_div(rho,rho_hat):\n",
    "    invrho=tf.subtract(tf.constant(1.),rho)\n",
    "    invrhohat=tf.subtract(tf.constant(1.),rho_hat)\n",
    "    logrho=tf.add(logfunc(rho,rho_hat),logfunc(invrho,invrhohat))\n",
    "    return logrho\n",
    "\n",
    "def logfunc(x,x2):\n",
    "    return tf.multiply(x,tf.log(tf.div(x,x2)))\n",
    "\n",
    "def plot_n_reconstruct(origin_img, reconstruct_img, n = 10):\n",
    "\n",
    "    plt.figure(figsize=(2 * 10, 4))\n",
    "\n",
    "    for i in range(n):\n",
    "        # display original\n",
    "        ax = plt.subplot(2, n, i + 1)\n",
    "        plt.imshow(origin_img[i].reshape(28, 28))\n",
    "        plt.gray()\n",
    "        ax.get_xaxis().set_visible(False)\n",
    "        ax.get_yaxis().set_visible(False)\n",
    "\n",
    "        # display reconstruction\n",
    "        ax = plt.subplot(2, n, i + 1 + n)\n",
    "        plt.imshow(reconstruct_img[i].reshape(28, 28))\n",
    "        plt.gray()\n",
    "        ax.get_xaxis().set_visible(False)\n",
    "        ax.get_yaxis().set_visible(False)\n",
    "    plt.show()\n",
    "\n",
    "\n",
    "tf.reset_default_graph()\n",
    "sess=tf.InteractiveSession()\n",
    "x=tf.placeholder(tf.float32,shape=[None,784])\n",
    "h,w,x_reconstruct=build_sae()\n",
    "\n",
    "alpha=5e-6\n",
    "beta=7.5e-5\n",
    "\n",
    "kl_div_loss=reduce(lambda x,y:x+y,map(lambda x: tf.reduce_sum(kl_div(0.02,tf.reduce_mean(x,0))),h))\n",
    "#kl_div_loss = tf.reduce_sum(kl_div(0.02, tf.reduce_mean(h[0],0)))\n",
    "l2_loss=reduce(lambda x,y:x+y,map(lambda x: tf.nn.l2_loss(x),w))\n",
    "\n",
    "loss=tf.reduce_mean(tf.pow(x_reconstruct-x,2))+alpha*l2_loss+beta*kl_div_loss\n",
    "optimizer=tf.train.AdamOptimizer(0.01).minimize(loss)\n",
    "init_op=tf.global_variables_initializer()\n",
    "\n",
    "sess.run(init_op)\n",
    "\n",
    "for i in range(20000):\n",
    "    batch=mnist.train.next_batch(60)\n",
    "    if i%100==0:\n",
    "        print(\"step %d, loss %g\"%(i,loss.eval(feed_dict={x:mnist.test.images})))\n",
    "    optimizer.run(feed_dict={x:batch[0]})\n",
    "\n",
    "print(\"final loss %g\" % loss.eval(feed_dict={x:mnist.test.images}))"
   ]
  },
  {
   "cell_type": "code",
   "execution_count": 13,
   "metadata": {},
   "outputs": [
    {
     "name": "stdout",
     "output_type": "stream",
     "text": [
      "average output activation value 0.0521203\n",
      "average output activation value 0.392867\n"
     ]
    }
   ],
   "source": [
    "for h_i in h:\n",
    "    print(\"average output activation value %g\" % \n",
    "          tf.reduce_mean(h_i).eval(feed_dict={x:mnist.test.images}))\n"
   ]
  },
  {
   "cell_type": "code",
   "execution_count": 15,
   "metadata": {},
   "outputs": [
    {
     "data": {
      "image/png": "[encoded data removed]",
      "text/plain": [
       "<matplotlib.figure.Figure at 0x7fdba15dc2d0>"
      ]
     },
     "metadata": {},
     "output_type": "display_data"
    },
    {
     "data": {
      "image/png": "[encoded data removed]",
      "text/plain": [
       "<matplotlib.figure.Figure at 0x7fdba5095fd0>"
      ]
     },
     "metadata": {},
     "output_type": "display_data"
    },
    {
     "data": {
      "image/png": "[encoded data removed]",
      "text/plain": [
       "<matplotlib.figure.Figure at 0x7fdb867ea750>"
      ]
     },
     "metadata": {},
     "output_type": "display_data"
    },
    {
     "data": {
      "image/png": "[encoded data removed]",
      "text/plain": [
       "<matplotlib.figure.Figure at 0x7fdb8c04d710>"
      ]
     },
     "metadata": {},
     "output_type": "display_data"
    },
    {
     "data": {
      "image/png": "[encoded data removed]",
      "text/plain": [
       "<matplotlib.figure.Figure at 0x7fdb86763c90>"
      ]
     },
     "metadata": {},
     "output_type": "display_data"
    },
    {
     "data": {
      "image/png": "[encoded data removed]",
      "text/plain": [
       "<matplotlib.figure.Figure at 0x7fdb86738250>"
      ]
     },
     "metadata": {},
     "output_type": "display_data"
    },
    {
     "data": {
      "image/png": "[encoded data removed]",
      "text/plain": [
       "<matplotlib.figure.Figure at 0x7fdb86689590>"
      ]
     },
     "metadata": {},
     "output_type": "display_data"
    },
    {
     "data": {
      "image/png": "[encoded data removed]",
      "text/plain": [
       "<matplotlib.figure.Figure at 0x7fdb86643c50>"
      ]
     },
     "metadata": {},
     "output_type": "display_data"
    },
    {
     "data": {
      "image/png": "[encoded data removed]",
      "text/plain": [
       "<matplotlib.figure.Figure at 0x7fdb8660ff50>"
      ]
     },
     "metadata": {},
     "output_type": "display_data"
    },
    {
     "data": {
      "image/png": "[encoded data removed]",
      "text/plain": [
       "<matplotlib.figure.Figure at 0x7fdb865e8290>"
      ]
     },
     "metadata": {},
     "output_type": "display_data"
    }
   ],
   "source": [
    "trainimg=mnist.train.images\n",
    "trainlabel=mnist.train.labels\n",
    "output_nd=x_reconstruct.eval(feed_dict={x:mnist.train.images})\n",
    "\n",
    "for i in [0,1,2,3,4]:\n",
    "    curr_img=np.reshape(trainimg[i,:],(28,28))\n",
    "    ae_img=np.reshape(output_nd[i,:],(28,28))\n",
    "    curr_label=np.argmax(trainlabel[i,:])\n",
    "    plt.matshow(curr_img,cmap=plt.get_cmap('gray'))\n",
    "    plt.matshow(ae_img,cmap=plt.get_cmap('gray'))"
   ]
  }
 ],
 "metadata": {
  "kernelspec": {
   "display_name": "Python 2",
   "language": "python",
   "name": "python2"
  },
  "language_info": {
   "codemirror_mode": {
    "name": "ipython",
    "version": 2
   },
   "file_extension": ".py",
   "mimetype": "text/x-python",
   "name": "python",
   "nbconvert_exporter": "python",
   "pygments_lexer": "ipython2",
   "version": "2.7.14"
  }
 },
 "nbformat": 4,
 "nbformat_minor": 2
}
